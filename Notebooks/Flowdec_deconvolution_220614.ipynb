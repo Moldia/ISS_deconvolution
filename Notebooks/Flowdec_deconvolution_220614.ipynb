{
 "cells": [
  {
   "cell_type": "markdown",
   "id": "4b874e34",
   "metadata": {},
   "source": [
    "# Flowdec for GPU accelerated deconvolution"
   ]
  },
  {
   "cell_type": "markdown",
   "id": "7e462211",
   "metadata": {},
   "source": [
    "This notebook guides you through image deconvolution, using the flowdec package. \n",
    "\n",
    "To do image deconvolution, you will first need to know some parameters about your microscope. \n",
    "\n",
    "Take some time to carefully read the manual and to collect some information before you attempt image deconvolution. \n",
    "\n",
    "This will save you a lot of computing time and frustration: using the wrong parameters will result in imaging artifacts, so be careful!\n"
   ]
  },
  {
   "cell_type": "markdown",
   "id": "d09ed838",
   "metadata": {},
   "source": [
    "## Specify down here the microscope information that will be used to generate a PSF"
   ]
  },
  {
   "cell_type": "markdown",
   "id": "6c4e7a54",
   "metadata": {},
   "source": [
    "na = numerical aperture of the used lens\n",
    "\n",
    "m = lens magnification\n",
    "\n",
    "ni0 = refraction index of the immersion medium\n",
    "\n",
    "res_lateral = x,y resolution of the images \n",
    "\n",
    "res_axial: z-resolution of the stack. This is either the spacing between zplanes or the actual z resolution of your lens, whichever is larger.\n",
    "\n",
    "Other parameters to be specified are the wavelengths of the individual channels to deconvolve.\n",
    "\n",
    "The channel name and the corresponding wavelength need to be input in the same order in which the channel acquisition was performed on the microscope. \n",
    "\n",
    "The following settings are OK for Leica/Nilsson.\n"
   ]
  },
  {
   "cell_type": "code",
   "execution_count": null,
   "id": "6b7ea5e5",
   "metadata": {},
   "outputs": [],
   "source": [
    "from ISS_deconvolution.ISS_deconvolution import ISS_flowdec"
   ]
  },
  {
   "cell_type": "code",
   "execution_count": 129,
   "id": "02f26225",
   "metadata": {},
   "outputs": [],
   "source": [
    "PSF_metadata = {'na':0.8,\n",
    "'m':20,\n",
    "'ni0':1,\n",
    "'res_lateral':0.419,\n",
    "'res_axial':0.859,\n",
    " 'channels':{\n",
    " 'AF750':{\n",
    "    'wavelength':.809},\n",
    "  'Cy5':{\n",
    "    'wavelength':.681},\n",
    "  'Cy3':{\n",
    "    'wavelength':.555},\n",
    "  'AF488':{\n",
    "    'wavelength':.475},\n",
    " 'DAPI':{\n",
    "    'wavelength':.390}\n",
    " }\n",
    "}\n"
   ]
  },
  {
   "cell_type": "markdown",
   "id": "4980d9ba",
   "metadata": {},
   "source": [
    "### Specify here inputs and outputs"
   ]
  },
  {
   "cell_type": "markdown",
   "id": "5462a726",
   "metadata": {},
   "source": [
    "Here you need to specify the path to the main stacked folder. This is the folder containing the stacked images organised by imaging cycles, as they tipically come out of our stacking functions from the ISS_preprocessing module."
   ]
  },
  {
   "cell_type": "code",
   "execution_count": null,
   "id": "d6fc3f2d",
   "metadata": {},
   "outputs": [],
   "source": [
    "main_stacked_folder='/media/external/DATA 2/marcotemp/test_zeiss/stacked/'\n"
   ]
  },
  {
   "cell_type": "markdown",
   "id": "e0eda24f",
   "metadata": {},
   "source": [
    "Here you specify the path to the output folder, where the deconvolved, maximum projected stacks will be saved."
   ]
  },
  {
   "cell_type": "code",
   "execution_count": null,
   "id": "e6f0c85b",
   "metadata": {},
   "outputs": [],
   "source": [
    "output_folder='/media/external/DATA 2/marcotemp/test_flowdec/'\n"
   ]
  },
  {
   "cell_type": "code",
   "execution_count": 134,
   "id": "227b5fc6",
   "metadata": {},
   "outputs": [
    {
     "name": "stdout",
     "output_type": "stream",
     "text": [
      "Generating PSFs\n",
      "Generating PSF for channel:AF750\n",
      "Generating PSF for channel:Cy5\n",
      "Generating PSF for channel:Cy3\n",
      "Generating PSF for channel:AF488\n",
      "Generating PSF for channel:DAPI\n",
      "Deconvolving channel:0:AF750\n",
      "Reading: 759-09_10minP_Cycle 1_1_Corrected--Stage00--C00.tif\n",
      "chunk shape (0, 0, 0)\n",
      "chunk shape (37, 524, 524)\n",
      "chunk shape (37, 524, 524)\n",
      "chunk shape (37, 524, 524)\n",
      "chunk shape (37, 524, 524)\n",
      "chunk shape (37, 524, 524)\n",
      "chunk shape (37, 524, 524)\n",
      "chunk shape (37, 524, 524)\n",
      "chunk shape (37, 524, 524)\n",
      "chunk shape (37, 524, 524)\n",
      "chunk shape (37, 524, 524)\n",
      "chunk shape (37, 524, 524)\n",
      "chunk shape (37, 524, 524)\n",
      "chunk shape (37, 524, 524)\n",
      "chunk shape (37, 524, 524)\n",
      "chunk shape (37, 524, 524)\n",
      "chunk shape (37, 524, 524)\n",
      "Deconvolution done, now doing max-projection...\n",
      "Saving projected image from: 759-09_10minP_Cycle 1_1_Corrected--Stage00--C00.tif to Base_1_s00_C00.tif\n",
      "Reading: 759-09_10minP_Cycle 1_1_Corrected--Stage01--C00.tif\n",
      "chunk shape (0, 0, 0)\n",
      "chunk shape (37, 524, 524)\n",
      "chunk shape (37, 524, 524)\n",
      "chunk shape (37, 524, 524)\n",
      "chunk shape (37, 524, 524)\n",
      "chunk shape (37, 524, 524)\n",
      "chunk shape (37, 524, 524)\n",
      "chunk shape (37, 524, 524)\n",
      "chunk shape (37, 524, 524)\n",
      "chunk shape (37, 524, 524)\n",
      "chunk shape (37, 524, 524)\n",
      "chunk shape (37, 524, 524)\n",
      "chunk shape (37, 524, 524)\n",
      "chunk shape (37, 524, 524)\n",
      "chunk shape (37, 524, 524)\n",
      "chunk shape (37, 524, 524)\n",
      "chunk shape (37, 524, 524)\n",
      "Deconvolution done, now doing max-projection...\n",
      "Saving projected image from: 759-09_10minP_Cycle 1_1_Corrected--Stage01--C00.tif to Base_1_s01_C00.tif\n",
      "Reading: 759-09_10minP_Cycle 1_1_Corrected--Stage02--C00.tif\n",
      "chunk shape (0, 0, 0)\n",
      "chunk shape (37, 524, 524)\n",
      "chunk shape (37, 524, 524)\n",
      "chunk shape (37, 524, 524)\n",
      "chunk shape (37, 524, 524)\n",
      "chunk shape (37, 524, 524)\n",
      "chunk shape (37, 524, 524)\n",
      "chunk shape (37, 524, 524)\n",
      "chunk shape (37, 524, 524)\n",
      "chunk shape (37, 524, 524)\n",
      "chunk shape (37, 524, 524)\n",
      "chunk shape (37, 524, 524)\n",
      "chunk shape (37, 524, 524)\n",
      "chunk shape (37, 524, 524)\n",
      "chunk shape (37, 524, 524)\n",
      "chunk shape (37, 524, 524)\n",
      "chunk shape (37, 524, 524)\n",
      "Deconvolution done, now doing max-projection...\n",
      "Saving projected image from: 759-09_10minP_Cycle 1_1_Corrected--Stage02--C00.tif to Base_1_s02_C00.tif\n",
      "Reading: 759-09_10minP_Cycle 1_1_Corrected--Stage03--C00.tif\n",
      "chunk shape (0, 0, 0)\n",
      "chunk shape (37, 524, 524)\n",
      "chunk shape (37, 524, 524)\n"
     ]
    },
    {
     "ename": "KeyboardInterrupt",
     "evalue": "",
     "output_type": "error",
     "traceback": [
      "\u001b[0;31m---------------------------------------------------------------------------\u001b[0m",
      "\u001b[0;31mKeyboardInterrupt\u001b[0m                         Traceback (most recent call last)",
      "\u001b[0;32m<ipython-input-134-4676b32afa33>\u001b[0m in \u001b[0;36m<module>\u001b[0;34m\u001b[0m\n\u001b[0;32m----> 1\u001b[0;31m \u001b[0mISS_flowdec\u001b[0m\u001b[0;34m(\u001b[0m\u001b[0mstack\u001b[0m\u001b[0;34m,\u001b[0m \u001b[0mtestflow\u001b[0m\u001b[0;34m,\u001b[0m \u001b[0mPSF_metadata\u001b[0m\u001b[0;34m)\u001b[0m\u001b[0;34m\u001b[0m\u001b[0;34m\u001b[0m\u001b[0m\n\u001b[0m",
      "\u001b[0;32m<ipython-input-133-4a3fde6f1868>\u001b[0m in \u001b[0;36mISS_flowdec\u001b[0;34m(main_stacked_folder, output_main, PSF_metadata)\u001b[0m\n\u001b[1;32m    160\u001b[0m                     \u001b[0mtmp\u001b[0m \u001b[0;34m=\u001b[0m \u001b[0malgo\u001b[0m\u001b[0;34m.\u001b[0m\u001b[0minitialize\u001b[0m\u001b[0;34m(\u001b[0m\u001b[0;34m)\u001b[0m\u001b[0;34m.\u001b[0m\u001b[0mrun\u001b[0m\u001b[0;34m(\u001b[0m\u001b[0mfd_data\u001b[0m\u001b[0;34m.\u001b[0m\u001b[0mAcquisition\u001b[0m\u001b[0;34m(\u001b[0m\u001b[0mdata\u001b[0m\u001b[0;34m=\u001b[0m\u001b[0mchunk\u001b[0m\u001b[0;34m,\u001b[0m \u001b[0mkernel\u001b[0m\u001b[0;34m=\u001b[0m\u001b[0mcropped_kernel\u001b[0m\u001b[0;34m)\u001b[0m\u001b[0;34m,\u001b[0m \u001b[0;36m50\u001b[0m\u001b[0;34m)\u001b[0m\u001b[0;34m\u001b[0m\u001b[0;34m\u001b[0m\u001b[0m\n\u001b[1;32m    161\u001b[0m                     \u001b[0;32mreturn\u001b[0m \u001b[0mtmp\u001b[0m\u001b[0;34m.\u001b[0m\u001b[0mdata\u001b[0m\u001b[0;34m\u001b[0m\u001b[0;34m\u001b[0m\u001b[0m\n\u001b[0;32m--> 162\u001b[0;31m                 \u001b[0mresult_overlap\u001b[0m \u001b[0;34m=\u001b[0m \u001b[0marr\u001b[0m\u001b[0;34m.\u001b[0m\u001b[0mmap_overlap\u001b[0m\u001b[0;34m(\u001b[0m\u001b[0mdeconv\u001b[0m\u001b[0;34m,\u001b[0m\u001b[0mdepth\u001b[0m\u001b[0;34m=\u001b[0m\u001b[0;34m(\u001b[0m\u001b[0;36m6\u001b[0m\u001b[0;34m,\u001b[0m\u001b[0;36m6\u001b[0m\u001b[0;34m,\u001b[0m\u001b[0;36m6\u001b[0m\u001b[0;34m)\u001b[0m\u001b[0;34m,\u001b[0m \u001b[0mboundary\u001b[0m\u001b[0;34m=\u001b[0m\u001b[0;34m'reflect'\u001b[0m\u001b[0;34m,\u001b[0m \u001b[0mdtype\u001b[0m\u001b[0;34m=\u001b[0m\u001b[0;34m'uint16'\u001b[0m\u001b[0;34m)\u001b[0m\u001b[0;34m.\u001b[0m\u001b[0mcompute\u001b[0m\u001b[0;34m(\u001b[0m\u001b[0mnum_workers\u001b[0m\u001b[0;34m=\u001b[0m\u001b[0;36m1\u001b[0m\u001b[0;34m)\u001b[0m\u001b[0;34m\u001b[0m\u001b[0;34m\u001b[0m\u001b[0m\n\u001b[0m\u001b[1;32m    163\u001b[0m                 \u001b[0mprint\u001b[0m \u001b[0;34m(\u001b[0m\u001b[0;34m'Deconvolution done, now doing max-projection...'\u001b[0m\u001b[0;34m)\u001b[0m\u001b[0;34m\u001b[0m\u001b[0;34m\u001b[0m\u001b[0m\n\u001b[1;32m    164\u001b[0m                 \u001b[0mresult_maxproj\u001b[0m\u001b[0;34m=\u001b[0m \u001b[0mnp\u001b[0m\u001b[0;34m.\u001b[0m\u001b[0mmax\u001b[0m\u001b[0;34m(\u001b[0m\u001b[0mresult_overlap\u001b[0m\u001b[0;34m,\u001b[0m \u001b[0maxis\u001b[0m\u001b[0;34m=\u001b[0m\u001b[0;36m0\u001b[0m\u001b[0;34m)\u001b[0m\u001b[0;34m\u001b[0m\u001b[0;34m\u001b[0m\u001b[0m\n",
      "\u001b[0;32m~/anaconda3/envs/flowdec/lib/python3.6/site-packages/dask/base.py\u001b[0m in \u001b[0;36mcompute\u001b[0;34m(self, **kwargs)\u001b[0m\n\u001b[1;32m    281\u001b[0m         \u001b[0mdask\u001b[0m\u001b[0;34m.\u001b[0m\u001b[0mbase\u001b[0m\u001b[0;34m.\u001b[0m\u001b[0mcompute\u001b[0m\u001b[0;34m\u001b[0m\u001b[0;34m\u001b[0m\u001b[0m\n\u001b[1;32m    282\u001b[0m         \"\"\"\n\u001b[0;32m--> 283\u001b[0;31m         \u001b[0;34m(\u001b[0m\u001b[0mresult\u001b[0m\u001b[0;34m,\u001b[0m\u001b[0;34m)\u001b[0m \u001b[0;34m=\u001b[0m \u001b[0mcompute\u001b[0m\u001b[0;34m(\u001b[0m\u001b[0mself\u001b[0m\u001b[0;34m,\u001b[0m \u001b[0mtraverse\u001b[0m\u001b[0;34m=\u001b[0m\u001b[0;32mFalse\u001b[0m\u001b[0;34m,\u001b[0m \u001b[0;34m**\u001b[0m\u001b[0mkwargs\u001b[0m\u001b[0;34m)\u001b[0m\u001b[0;34m\u001b[0m\u001b[0;34m\u001b[0m\u001b[0m\n\u001b[0m\u001b[1;32m    284\u001b[0m         \u001b[0;32mreturn\u001b[0m \u001b[0mresult\u001b[0m\u001b[0;34m\u001b[0m\u001b[0;34m\u001b[0m\u001b[0m\n\u001b[1;32m    285\u001b[0m \u001b[0;34m\u001b[0m\u001b[0m\n",
      "\u001b[0;32m~/anaconda3/envs/flowdec/lib/python3.6/site-packages/dask/base.py\u001b[0m in \u001b[0;36mcompute\u001b[0;34m(*args, **kwargs)\u001b[0m\n\u001b[1;32m    563\u001b[0m         \u001b[0mpostcomputes\u001b[0m\u001b[0;34m.\u001b[0m\u001b[0mappend\u001b[0m\u001b[0;34m(\u001b[0m\u001b[0mx\u001b[0m\u001b[0;34m.\u001b[0m\u001b[0m__dask_postcompute__\u001b[0m\u001b[0;34m(\u001b[0m\u001b[0;34m)\u001b[0m\u001b[0;34m)\u001b[0m\u001b[0;34m\u001b[0m\u001b[0;34m\u001b[0m\u001b[0m\n\u001b[1;32m    564\u001b[0m \u001b[0;34m\u001b[0m\u001b[0m\n\u001b[0;32m--> 565\u001b[0;31m     \u001b[0mresults\u001b[0m \u001b[0;34m=\u001b[0m \u001b[0mschedule\u001b[0m\u001b[0;34m(\u001b[0m\u001b[0mdsk\u001b[0m\u001b[0;34m,\u001b[0m \u001b[0mkeys\u001b[0m\u001b[0;34m,\u001b[0m \u001b[0;34m**\u001b[0m\u001b[0mkwargs\u001b[0m\u001b[0;34m)\u001b[0m\u001b[0;34m\u001b[0m\u001b[0;34m\u001b[0m\u001b[0m\n\u001b[0m\u001b[1;32m    566\u001b[0m     \u001b[0;32mreturn\u001b[0m \u001b[0mrepack\u001b[0m\u001b[0;34m(\u001b[0m\u001b[0;34m[\u001b[0m\u001b[0mf\u001b[0m\u001b[0;34m(\u001b[0m\u001b[0mr\u001b[0m\u001b[0;34m,\u001b[0m \u001b[0;34m*\u001b[0m\u001b[0ma\u001b[0m\u001b[0;34m)\u001b[0m \u001b[0;32mfor\u001b[0m \u001b[0mr\u001b[0m\u001b[0;34m,\u001b[0m \u001b[0;34m(\u001b[0m\u001b[0mf\u001b[0m\u001b[0;34m,\u001b[0m \u001b[0ma\u001b[0m\u001b[0;34m)\u001b[0m \u001b[0;32min\u001b[0m \u001b[0mzip\u001b[0m\u001b[0;34m(\u001b[0m\u001b[0mresults\u001b[0m\u001b[0;34m,\u001b[0m \u001b[0mpostcomputes\u001b[0m\u001b[0;34m)\u001b[0m\u001b[0;34m]\u001b[0m\u001b[0;34m)\u001b[0m\u001b[0;34m\u001b[0m\u001b[0;34m\u001b[0m\u001b[0m\n\u001b[1;32m    567\u001b[0m \u001b[0;34m\u001b[0m\u001b[0m\n",
      "\u001b[0;32m~/anaconda3/envs/flowdec/lib/python3.6/site-packages/dask/threaded.py\u001b[0m in \u001b[0;36mget\u001b[0;34m(dsk, result, cache, num_workers, pool, **kwargs)\u001b[0m\n\u001b[1;32m     82\u001b[0m         \u001b[0mget_id\u001b[0m\u001b[0;34m=\u001b[0m\u001b[0m_thread_get_id\u001b[0m\u001b[0;34m,\u001b[0m\u001b[0;34m\u001b[0m\u001b[0;34m\u001b[0m\u001b[0m\n\u001b[1;32m     83\u001b[0m         \u001b[0mpack_exception\u001b[0m\u001b[0;34m=\u001b[0m\u001b[0mpack_exception\u001b[0m\u001b[0;34m,\u001b[0m\u001b[0;34m\u001b[0m\u001b[0;34m\u001b[0m\u001b[0m\n\u001b[0;32m---> 84\u001b[0;31m         \u001b[0;34m**\u001b[0m\u001b[0mkwargs\u001b[0m\u001b[0;34m\u001b[0m\u001b[0;34m\u001b[0m\u001b[0m\n\u001b[0m\u001b[1;32m     85\u001b[0m     )\n\u001b[1;32m     86\u001b[0m \u001b[0;34m\u001b[0m\u001b[0m\n",
      "\u001b[0;32m~/anaconda3/envs/flowdec/lib/python3.6/site-packages/dask/local.py\u001b[0m in \u001b[0;36mget_async\u001b[0;34m(apply_async, num_workers, dsk, result, cache, get_id, rerun_exceptions_locally, pack_exception, raise_exception, callbacks, dumps, loads, **kwargs)\u001b[0m\n\u001b[1;32m    474\u001b[0m             \u001b[0;31m# Main loop, wait on tasks to finish, insert new ones\u001b[0m\u001b[0;34m\u001b[0m\u001b[0;34m\u001b[0m\u001b[0;34m\u001b[0m\u001b[0m\n\u001b[1;32m    475\u001b[0m             \u001b[0;32mwhile\u001b[0m \u001b[0mstate\u001b[0m\u001b[0;34m[\u001b[0m\u001b[0;34m\"waiting\"\u001b[0m\u001b[0;34m]\u001b[0m \u001b[0;32mor\u001b[0m \u001b[0mstate\u001b[0m\u001b[0;34m[\u001b[0m\u001b[0;34m\"ready\"\u001b[0m\u001b[0;34m]\u001b[0m \u001b[0;32mor\u001b[0m \u001b[0mstate\u001b[0m\u001b[0;34m[\u001b[0m\u001b[0;34m\"running\"\u001b[0m\u001b[0;34m]\u001b[0m\u001b[0;34m:\u001b[0m\u001b[0;34m\u001b[0m\u001b[0;34m\u001b[0m\u001b[0m\n\u001b[0;32m--> 476\u001b[0;31m                 \u001b[0mkey\u001b[0m\u001b[0;34m,\u001b[0m \u001b[0mres_info\u001b[0m\u001b[0;34m,\u001b[0m \u001b[0mfailed\u001b[0m \u001b[0;34m=\u001b[0m \u001b[0mqueue_get\u001b[0m\u001b[0;34m(\u001b[0m\u001b[0mqueue\u001b[0m\u001b[0;34m)\u001b[0m\u001b[0;34m\u001b[0m\u001b[0;34m\u001b[0m\u001b[0m\n\u001b[0m\u001b[1;32m    477\u001b[0m                 \u001b[0;32mif\u001b[0m \u001b[0mfailed\u001b[0m\u001b[0;34m:\u001b[0m\u001b[0;34m\u001b[0m\u001b[0;34m\u001b[0m\u001b[0m\n\u001b[1;32m    478\u001b[0m                     \u001b[0mexc\u001b[0m\u001b[0;34m,\u001b[0m \u001b[0mtb\u001b[0m \u001b[0;34m=\u001b[0m \u001b[0mloads\u001b[0m\u001b[0;34m(\u001b[0m\u001b[0mres_info\u001b[0m\u001b[0;34m)\u001b[0m\u001b[0;34m\u001b[0m\u001b[0;34m\u001b[0m\u001b[0m\n",
      "\u001b[0;32m~/anaconda3/envs/flowdec/lib/python3.6/site-packages/dask/local.py\u001b[0m in \u001b[0;36mqueue_get\u001b[0;34m(q)\u001b[0m\n\u001b[1;32m    131\u001b[0m \u001b[0;34m\u001b[0m\u001b[0m\n\u001b[1;32m    132\u001b[0m     \u001b[0;32mdef\u001b[0m \u001b[0mqueue_get\u001b[0m\u001b[0;34m(\u001b[0m\u001b[0mq\u001b[0m\u001b[0;34m)\u001b[0m\u001b[0;34m:\u001b[0m\u001b[0;34m\u001b[0m\u001b[0;34m\u001b[0m\u001b[0m\n\u001b[0;32m--> 133\u001b[0;31m         \u001b[0;32mreturn\u001b[0m \u001b[0mq\u001b[0m\u001b[0;34m.\u001b[0m\u001b[0mget\u001b[0m\u001b[0;34m(\u001b[0m\u001b[0;34m)\u001b[0m\u001b[0;34m\u001b[0m\u001b[0;34m\u001b[0m\u001b[0m\n\u001b[0m\u001b[1;32m    134\u001b[0m \u001b[0;34m\u001b[0m\u001b[0m\n\u001b[1;32m    135\u001b[0m \u001b[0;34m\u001b[0m\u001b[0m\n",
      "\u001b[0;32m~/anaconda3/envs/flowdec/lib/python3.6/queue.py\u001b[0m in \u001b[0;36mget\u001b[0;34m(self, block, timeout)\u001b[0m\n\u001b[1;32m    162\u001b[0m             \u001b[0;32melif\u001b[0m \u001b[0mtimeout\u001b[0m \u001b[0;32mis\u001b[0m \u001b[0;32mNone\u001b[0m\u001b[0;34m:\u001b[0m\u001b[0;34m\u001b[0m\u001b[0;34m\u001b[0m\u001b[0m\n\u001b[1;32m    163\u001b[0m                 \u001b[0;32mwhile\u001b[0m \u001b[0;32mnot\u001b[0m \u001b[0mself\u001b[0m\u001b[0;34m.\u001b[0m\u001b[0m_qsize\u001b[0m\u001b[0;34m(\u001b[0m\u001b[0;34m)\u001b[0m\u001b[0;34m:\u001b[0m\u001b[0;34m\u001b[0m\u001b[0;34m\u001b[0m\u001b[0m\n\u001b[0;32m--> 164\u001b[0;31m                     \u001b[0mself\u001b[0m\u001b[0;34m.\u001b[0m\u001b[0mnot_empty\u001b[0m\u001b[0;34m.\u001b[0m\u001b[0mwait\u001b[0m\u001b[0;34m(\u001b[0m\u001b[0;34m)\u001b[0m\u001b[0;34m\u001b[0m\u001b[0;34m\u001b[0m\u001b[0m\n\u001b[0m\u001b[1;32m    165\u001b[0m             \u001b[0;32melif\u001b[0m \u001b[0mtimeout\u001b[0m \u001b[0;34m<\u001b[0m \u001b[0;36m0\u001b[0m\u001b[0;34m:\u001b[0m\u001b[0;34m\u001b[0m\u001b[0;34m\u001b[0m\u001b[0m\n\u001b[1;32m    166\u001b[0m                 \u001b[0;32mraise\u001b[0m \u001b[0mValueError\u001b[0m\u001b[0;34m(\u001b[0m\u001b[0;34m\"'timeout' must be a non-negative number\"\u001b[0m\u001b[0;34m)\u001b[0m\u001b[0;34m\u001b[0m\u001b[0;34m\u001b[0m\u001b[0m\n",
      "\u001b[0;32m~/anaconda3/envs/flowdec/lib/python3.6/threading.py\u001b[0m in \u001b[0;36mwait\u001b[0;34m(self, timeout)\u001b[0m\n\u001b[1;32m    293\u001b[0m         \u001b[0;32mtry\u001b[0m\u001b[0;34m:\u001b[0m    \u001b[0;31m# restore state no matter what (e.g., KeyboardInterrupt)\u001b[0m\u001b[0;34m\u001b[0m\u001b[0;34m\u001b[0m\u001b[0m\n\u001b[1;32m    294\u001b[0m             \u001b[0;32mif\u001b[0m \u001b[0mtimeout\u001b[0m \u001b[0;32mis\u001b[0m \u001b[0;32mNone\u001b[0m\u001b[0;34m:\u001b[0m\u001b[0;34m\u001b[0m\u001b[0;34m\u001b[0m\u001b[0m\n\u001b[0;32m--> 295\u001b[0;31m                 \u001b[0mwaiter\u001b[0m\u001b[0;34m.\u001b[0m\u001b[0macquire\u001b[0m\u001b[0;34m(\u001b[0m\u001b[0;34m)\u001b[0m\u001b[0;34m\u001b[0m\u001b[0;34m\u001b[0m\u001b[0m\n\u001b[0m\u001b[1;32m    296\u001b[0m                 \u001b[0mgotit\u001b[0m \u001b[0;34m=\u001b[0m \u001b[0;32mTrue\u001b[0m\u001b[0;34m\u001b[0m\u001b[0;34m\u001b[0m\u001b[0m\n\u001b[1;32m    297\u001b[0m             \u001b[0;32melse\u001b[0m\u001b[0;34m:\u001b[0m\u001b[0;34m\u001b[0m\u001b[0;34m\u001b[0m\u001b[0m\n",
      "\u001b[0;31mKeyboardInterrupt\u001b[0m: "
     ]
    }
   ],
   "source": [
    "ISS_flowdec(main_stacked_folder, output_folder, PSF_metadata)"
   ]
  },
  {
   "cell_type": "markdown",
   "id": "25cb1346",
   "metadata": {},
   "source": [
    "The resulting images can be now used as inputs for the ISS_preprocessing module, specifying mip=False in the main preprocessing function."
   ]
  },
  {
   "cell_type": "code",
   "execution_count": null,
   "id": "c97afef4",
   "metadata": {},
   "outputs": [],
   "source": []
  }
 ],
 "metadata": {
  "kernelspec": {
   "display_name": "flowdec",
   "language": "python",
   "name": "flowdec"
  },
  "language_info": {
   "codemirror_mode": {
    "name": "ipython",
    "version": 3
   },
   "file_extension": ".py",
   "mimetype": "text/x-python",
   "name": "python",
   "nbconvert_exporter": "python",
   "pygments_lexer": "ipython3",
   "version": "3.6.13"
  }
 },
 "nbformat": 4,
 "nbformat_minor": 5
}
