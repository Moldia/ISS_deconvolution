{
 "cells": [
  {
   "cell_type": "markdown",
   "id": "2fa60712",
   "metadata": {},
   "source": [
    "# Image deconvolution using `flowdec`\n",
    "\n",
    "Image deconvolution is performed on GPU using `flowdec` https://github.com/hammerlab/flowdec\n",
    "\n",
    "**To run image deconvolution using this notebook, you need a CUDA-compatible GPU with functional NVIDIA drivers, cuDNN, etc... and a functional Tensoflow installation.**\n",
    "\n",
    "To do image deconvolution, you will first need to know some parameters about your microscope. Take some time to carefully read the guide below and to collect some information before you attempt image deconvolution. This will save you a lot of computing time and frustration: using the wrong parameters will result in imaging artifacts, so be careful!\n",
    "\n",
    "These parameters will be used to create a synthetic point-spread function (PSF). If you don't know what a PSF is and why it is important, please read here: ​​https://en.wikipedia.org/wiki/Point_spread_function\n",
    "\n",
    "You will need to know:\n",
    "\n",
    "`na` = numerical aperture of the used len\n",
    "\n",
    "`m` = lens magnification\n",
    "\n",
    "`ni0` = refraction index of the immersion medium\n",
    "\n",
    "`res_lateral` = x,y resolution of the images \n",
    "\n",
    "`res_axial`: z-resolution of the stack. This is either the spacing between zplanes or the actual z resolution of your lens, whichever is larger. Remember that the actual Z resolution of your lens will match your experiment’s resolution only if you acquired the stacks at Nyquist conditions. (https://imb.uq.edu.au/research/facilities/microscopy/training-manuals/microscopy-online-resources/image-capture/nyquist-conditions)\n"
   ]
  },
  {
   "cell_type": "markdown",
   "id": "6c60e4f4",
   "metadata": {},
   "source": [
    "## Introduce the PSF_metadata\n",
    "\n",
    "Once you've collected the above information, you have to input it in the format indicated below. You can substitute the numbers with the actual values for your microscope."
   ]
  },
  {
   "cell_type": "code",
   "execution_count": null,
   "id": "ad1414e4",
   "metadata": {},
   "outputs": [],
   "source": [
    "example_PSF = {'na':0.8,\n",
    "'m':20,\n",
    "'ni0':1.42,\n",
    "'res_lateral':0.419,\n",
    "'res_axial':1.718,\n",
    " 'channels':{\n",
    " 'AF750':{\n",
    "    'wavelength':.773},\n",
    "  'Cy5':{\n",
    "    'wavelength':.673},\n",
    "  'Cy3':{\n",
    "    'wavelength':.561},\n",
    "  'AF488':{\n",
    "    'wavelength':.519},\n",
    " 'DAPI':{\n",
    "    'wavelength':.465}\n",
    " }\n",
    "}"
   ]
  },
  {
   "cell_type": "markdown",
   "id": "ba9ca60d",
   "metadata": {},
   "source": [
    "# Image deconvolution of Leica-exported tiffs\n",
    "\n",
    "## `deconvolve_leica`\n",
    "This function organises the raw images from a Leica experiment according to Cycle, Region, Tile, Channel, arranges them in individual 3D stacks, deconvolves each stack and save its maximum projection (default).  \n",
    "\n",
    "The function mirrors the workflow of the `leica_mipping` function from the `ISS_preprocessing` module in the sense that organise the files in a similar way but performs a deconvolution before the maximum projection. The output files and folder have the same name and structure than conventionally projected files. This steps effectively substitutes the `leica_mipping` in preprocessing workflows where image deconvolution is needed.\n",
    "\n",
    "\n",
    "The function takes the following arguments:\n",
    "\n",
    "`input_dirs`: This will be a list of the complete paths to the folders containing your imaging cycles. The folders need to be specified in the right order (ie. the first element of the list will be the folder where the first cycle of imaging is saved, and so on) The elements need to be separated by commas. The format for this variable is a `lst` of `str`.\n",
    "\n",
    "`output_location`:  This will be the path where you want the preprocessing output to be saved. Ideally, this should be associated with some type of unique project identifier. The format of this variable is `str`. In case multiple regions are being processed, the funcion will behave differently depending whether a trailing slash `/` is included or not in `output_location`: \n",
    "- if a trailing slash is added, then subfolders for each one of the scanned regions will be created as `_R1`, `_R2`, etc...\n",
    "- if a trailing slash is omitted, then `output_location` will be updated at each region iteration, and each one of the scanned regions will end up in a different `output_location` named as `output_location_R1`,`output_location_R2`, etc...\n",
    "\n",
    "`image_dimensions`: this is a list of 2 elements [x,y], specifying the x and y sizes of each image (default=[2048, 2048])\n",
    "\n",
    "`PSF_metadata`: refer to the example above. Metadata for the construction of a synthetic PSF\n",
    "\n",
    "`chunk_size`: Depending on the GPU you have, you might be or not able to load the entire image stack onto the GPU RAM. If `chunk_size` is unspecified, the function will try to load the entire stack. If your kernel crashes before performing any actual work, the most likely cause is that you are running out of memory.\n",
    "The solution to this RAM shortage is to chunk the stack in sub-stacks, deconvolve each independently and merge them afterwards. A typical `chunk_size` value that works for most GPU is [512,512] in XY. Z is automatically extracted from the data. If your GPU is very small you can try with [256,256] or even [128,128].\n",
    "\n",
    "`mip`: Specifies if the deconvolved images need to be maximum projected (default = True). If `False` the deconvolved stacks are saved, however we do our ISS analysis in 2D so there's almost never a good reason to save the stack.\n",
    "\n",
    "\n",
    "`deconvolve_leica` is able to handle multiple regions in the input files, and project them accordingly."
   ]
  },
  {
   "cell_type": "code",
   "execution_count": null,
   "id": "dc4fdc7a",
   "metadata": {},
   "outputs": [],
   "source": [
    "from ISS_deconvolution import deconvolution\n",
    "\n",
    "deconvolve_leica(input_dirs = ['/path/to/cycle1/',\n",
    "                                       '/path/to/cycle2/',\n",
    "                                       '/path/to/cycle3/'], \n",
    "                output_location = '/path/to/output_folder/',\n",
    "                 PSF_metadata=example_PSF, chunk_size=None, mip=True)"
   ]
  },
  {
   "cell_type": "markdown",
   "id": "2135d971",
   "metadata": {},
   "source": [
    "The output of `deconvolve_leica` are essentially maximum-projected images that have been previously deconvolved, so the output is seamlessly compatible with the downstream steps of normal preprocessing for Leica images: `leica_OME_tiff`, `ashlar_wrapper` and `tile_stitched_images`, so you can pick up the rest of the workflow in the `ISS_preprocessing` environment and notebooks\n"
   ]
  },
  {
   "cell_type": "markdown",
   "id": "a9be010a",
   "metadata": {},
   "source": [
    "# Image deconvolution of CZI files from Zeiss\n",
    "\n",
    "## `deconvolve_czi`\n",
    "This function reads the CZI images from the Zeiss format, gets the images, arranges them in individual 3D stacks, deconvolves each stack and save its maximum projection (default).  \n",
    "\n",
    "The function mirrors the workflow of the `process_czi` function from the `ISS_preprocessing` module in the sense that organise the files in a similar way but performs a deconvolution before the maximum projection. The output files and folder have the same name and structure than conventionally projected files. This steps effectively substitutes the `process_czi` in preprocessing workflows where image deconvolution is needed.\n",
    "\n",
    "\n",
    "The function takes the following arguments:\n",
    "\n",
    "`input_file`: the path to the CZI file that you want to preprocess, down to the czi file (included)\n",
    "\n",
    "`outpath`: the folder where you want to save the maximum-projected images. Ideally this would be a `/mainoutputfolder/region/preprocessing/mipped/` folder structure, for consistency with our way of organising the data.\n",
    "\n",
    "`cycle`: here you have to manually specify to which ISS cycle the images refer to. This is a `int` number, where 1 refers to cycle 1 and so on. If `cycle=0` the function will not work.\n",
    "\n",
    "`tile_size_x` and `tile_size_y`: these refer to the size in pixel of your camera field of view. Most cameras are 2048x2048, so that's the default if you don't specify them, but adjust them if your camera has a different field of view size.\n",
    "\n",
    "`chunk_size`: Depending on the GPU you have, you might be or not able to load the entire image stack onto the GPU RAM. If `chunk_size` is unspecified, the function will try to load the entire stack. If your kernel crashes before performing any actual work, the most likely cause is that you are running out of memory.\n",
    "The solution to this RAM shortage is to chunk the stack in sub-stacks, deconvolve each independently and merge them afterwards. A typical `chunk_size` value that works for most GPU is [512,512] in XY. Z is automatically extracted from the data. If your GPU is very small you can try with [256,256] or even [128,128].\n",
    "\n",
    "`mip`: Specifies if the deconvolved images need to be maximum projected (default = True). If `False` the deconvolved stacks are saved, however we do our ISS analysis in 2D so there's almost never a good reason to save the stack.\n",
    "\n",
    "**Keep in mind that `deconvolve_czi` can only accept 1 file at the time, unlike `deconvolve_leica`. This means that you need to deconvolve ONE cycle at the time, and manually specify the cycle number in the function for appropriate naming of the output files. You can also embed this function in a loop to process multiple cycles if you want, but make sure to pass the right arguments.**"
   ]
  },
  {
   "cell_type": "code",
   "execution_count": null,
   "id": "7d665110",
   "metadata": {},
   "outputs": [],
   "source": [
    "from ISS_deconvolution import deconvolution\n",
    "\n",
    "deconvolve_czi(input_file, outpath, image_dimensions=[2048, 2048], PSF_metadata=example_PSF, chunk_size=None,  mip=True, cycle=0, tile_size_x=2048, tile_size_y=2048)"
   ]
  }
 ],
 "metadata": {
  "kernelspec": {
   "display_name": "ISS_deconvolution",
   "language": "python",
   "name": "iss_deconvolution"
  },
  "language_info": {
   "codemirror_mode": {
    "name": "ipython",
    "version": 3
   },
   "file_extension": ".py",
   "mimetype": "text/x-python",
   "name": "python",
   "nbconvert_exporter": "python",
   "pygments_lexer": "ipython3",
   "version": "3.6.13"
  }
 },
 "nbformat": 4,
 "nbformat_minor": 5
}
